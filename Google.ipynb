{
 "cells": [
  {
   "cell_type": "code",
   "execution_count": 1,
   "metadata": {
    "executionInfo": {
     "elapsed": 3418,
     "status": "ok",
     "timestamp": 1612019306767,
     "user": {
      "displayName": "akshay aa",
      "photoUrl": "",
      "userId": "01833097046762434427"
     },
     "user_tz": -330
    },
    "id": "WyMKTcHldxjb"
   },
   "outputs": [],
   "source": [
    "import pandas as pd\n",
    "import matplotlib.pyplot as plt\n",
    "import numpy as np"
   ]
  },
  {
   "cell_type": "code",
   "execution_count": 2,
   "metadata": {
    "colab": {
     "base_uri": "https://localhost:8080/"
    },
    "executionInfo": {
     "elapsed": 21458,
     "status": "ok",
     "timestamp": 1612019324846,
     "user": {
      "displayName": "akshay aa",
      "photoUrl": "",
      "userId": "01833097046762434427"
     },
     "user_tz": -330
    },
    "id": "rz4juVeog0p0",
    "outputId": "b01e2c9b-64c0-4f5c-cab9-00c688a681a6"
   },
   "outputs": [
    {
     "name": "stderr",
     "output_type": "stream",
     "text": [
      "/usr/local/lib/python3.6/dist-packages/IPython/core/interactiveshell.py:2718: DtypeWarning: Columns (3,55) have mixed types.Specify dtype option on import or set low_memory=False.\n",
      "  interactivity=interactivity, compiler=compiler, result=result)\n"
     ]
    }
   ],
   "source": [
    "data = pd.read_csv(\"/content/drive/MyDrive/manish/train.csv (1)/train_detail.csv\")"
   ]
  },
  {
   "cell_type": "code",
   "execution_count": 3,
   "metadata": {
    "colab": {
     "base_uri": "https://localhost:8080/",
     "height": 326
    },
    "executionInfo": {
     "elapsed": 21403,
     "status": "ok",
     "timestamp": 1612019324850,
     "user": {
      "displayName": "akshay aa",
      "photoUrl": "",
      "userId": "01833097046762434427"
     },
     "user_tz": -330
    },
    "id": "MRnLQ5ZXg4nn",
    "outputId": "5a47a789-dd32-43fe-8a32-bcc03110f335"
   },
   "outputs": [
    {
     "data": {
      "text/html": [
       "<div>\n",
       "<style scoped>\n",
       "    .dataframe tbody tr th:only-of-type {\n",
       "        vertical-align: middle;\n",
       "    }\n",
       "\n",
       "    .dataframe tbody tr th {\n",
       "        vertical-align: top;\n",
       "    }\n",
       "\n",
       "    .dataframe thead th {\n",
       "        text-align: right;\n",
       "    }\n",
       "</style>\n",
       "<table border=\"1\" class=\"dataframe\">\n",
       "  <thead>\n",
       "    <tr style=\"text-align: right;\">\n",
       "      <th></th>\n",
       "      <th>Unnamed: 0</th>\n",
       "      <th>channelGrouping</th>\n",
       "      <th>date</th>\n",
       "      <th>fullVisitorId</th>\n",
       "      <th>sessionId</th>\n",
       "      <th>socialEngagementType</th>\n",
       "      <th>visitId</th>\n",
       "      <th>visitNumber</th>\n",
       "      <th>visitStartTime</th>\n",
       "      <th>device.browser</th>\n",
       "      <th>device.browserVersion</th>\n",
       "      <th>device.browserSize</th>\n",
       "      <th>device.operatingSystem</th>\n",
       "      <th>device.operatingSystemVersion</th>\n",
       "      <th>device.isMobile</th>\n",
       "      <th>device.mobileDeviceBranding</th>\n",
       "      <th>device.mobileDeviceModel</th>\n",
       "      <th>device.mobileInputSelector</th>\n",
       "      <th>device.mobileDeviceInfo</th>\n",
       "      <th>device.mobileDeviceMarketingName</th>\n",
       "      <th>device.flashVersion</th>\n",
       "      <th>device.language</th>\n",
       "      <th>device.screenColors</th>\n",
       "      <th>device.screenResolution</th>\n",
       "      <th>device.deviceCategory</th>\n",
       "      <th>geoNetwork.continent</th>\n",
       "      <th>geoNetwork.subContinent</th>\n",
       "      <th>geoNetwork.country</th>\n",
       "      <th>geoNetwork.region</th>\n",
       "      <th>geoNetwork.metro</th>\n",
       "      <th>geoNetwork.city</th>\n",
       "      <th>geoNetwork.cityId</th>\n",
       "      <th>geoNetwork.networkDomain</th>\n",
       "      <th>geoNetwork.latitude</th>\n",
       "      <th>geoNetwork.longitude</th>\n",
       "      <th>geoNetwork.networkLocation</th>\n",
       "      <th>totals.visits</th>\n",
       "      <th>totals.hits</th>\n",
       "      <th>totals.pageviews</th>\n",
       "      <th>totals.bounces</th>\n",
       "      <th>totals.newVisits</th>\n",
       "      <th>totals.transactionRevenue</th>\n",
       "      <th>trafficSource.campaign</th>\n",
       "      <th>trafficSource.source</th>\n",
       "      <th>trafficSource.medium</th>\n",
       "      <th>trafficSource.keyword</th>\n",
       "      <th>trafficSource.adwordsClickInfo.criteriaParameters</th>\n",
       "      <th>trafficSource.isTrueDirect</th>\n",
       "      <th>trafficSource.referralPath</th>\n",
       "      <th>trafficSource.adwordsClickInfo.page</th>\n",
       "      <th>trafficSource.adwordsClickInfo.slot</th>\n",
       "      <th>trafficSource.adwordsClickInfo.gclId</th>\n",
       "      <th>trafficSource.adwordsClickInfo.adNetworkType</th>\n",
       "      <th>trafficSource.adwordsClickInfo.isVideoAd</th>\n",
       "      <th>trafficSource.adContent</th>\n",
       "      <th>trafficSource.campaignCode</th>\n",
       "    </tr>\n",
       "  </thead>\n",
       "  <tbody>\n",
       "    <tr>\n",
       "      <th>0</th>\n",
       "      <td>0</td>\n",
       "      <td>Organic Search</td>\n",
       "      <td>20160902</td>\n",
       "      <td>1131660440785968503</td>\n",
       "      <td>1131660440785968503_1472830385</td>\n",
       "      <td>Not Socially Engaged</td>\n",
       "      <td>1472830385</td>\n",
       "      <td>1</td>\n",
       "      <td>1472830385</td>\n",
       "      <td>Chrome</td>\n",
       "      <td>not available in demo dataset</td>\n",
       "      <td>not available in demo dataset</td>\n",
       "      <td>Windows</td>\n",
       "      <td>not available in demo dataset</td>\n",
       "      <td>False</td>\n",
       "      <td>not available in demo dataset</td>\n",
       "      <td>not available in demo dataset</td>\n",
       "      <td>not available in demo dataset</td>\n",
       "      <td>not available in demo dataset</td>\n",
       "      <td>not available in demo dataset</td>\n",
       "      <td>not available in demo dataset</td>\n",
       "      <td>not available in demo dataset</td>\n",
       "      <td>not available in demo dataset</td>\n",
       "      <td>not available in demo dataset</td>\n",
       "      <td>desktop</td>\n",
       "      <td>Asia</td>\n",
       "      <td>Western Asia</td>\n",
       "      <td>Turkey</td>\n",
       "      <td>Izmir</td>\n",
       "      <td>(not set)</td>\n",
       "      <td>Izmir</td>\n",
       "      <td>not available in demo dataset</td>\n",
       "      <td>ttnet.com.tr</td>\n",
       "      <td>not available in demo dataset</td>\n",
       "      <td>not available in demo dataset</td>\n",
       "      <td>not available in demo dataset</td>\n",
       "      <td>1</td>\n",
       "      <td>1</td>\n",
       "      <td>1.0</td>\n",
       "      <td>1.0</td>\n",
       "      <td>1.0</td>\n",
       "      <td>NaN</td>\n",
       "      <td>(not set)</td>\n",
       "      <td>google</td>\n",
       "      <td>organic</td>\n",
       "      <td>(not provided)</td>\n",
       "      <td>not available in demo dataset</td>\n",
       "      <td>NaN</td>\n",
       "      <td>NaN</td>\n",
       "      <td>NaN</td>\n",
       "      <td>NaN</td>\n",
       "      <td>NaN</td>\n",
       "      <td>NaN</td>\n",
       "      <td>NaN</td>\n",
       "      <td>NaN</td>\n",
       "      <td>NaN</td>\n",
       "    </tr>\n",
       "    <tr>\n",
       "      <th>1</th>\n",
       "      <td>1</td>\n",
       "      <td>Organic Search</td>\n",
       "      <td>20160902</td>\n",
       "      <td>377306020877927890</td>\n",
       "      <td>377306020877927890_1472880147</td>\n",
       "      <td>Not Socially Engaged</td>\n",
       "      <td>1472880147</td>\n",
       "      <td>1</td>\n",
       "      <td>1472880147</td>\n",
       "      <td>Firefox</td>\n",
       "      <td>not available in demo dataset</td>\n",
       "      <td>not available in demo dataset</td>\n",
       "      <td>Macintosh</td>\n",
       "      <td>not available in demo dataset</td>\n",
       "      <td>False</td>\n",
       "      <td>not available in demo dataset</td>\n",
       "      <td>not available in demo dataset</td>\n",
       "      <td>not available in demo dataset</td>\n",
       "      <td>not available in demo dataset</td>\n",
       "      <td>not available in demo dataset</td>\n",
       "      <td>not available in demo dataset</td>\n",
       "      <td>not available in demo dataset</td>\n",
       "      <td>not available in demo dataset</td>\n",
       "      <td>not available in demo dataset</td>\n",
       "      <td>desktop</td>\n",
       "      <td>Oceania</td>\n",
       "      <td>Australasia</td>\n",
       "      <td>Australia</td>\n",
       "      <td>not available in demo dataset</td>\n",
       "      <td>not available in demo dataset</td>\n",
       "      <td>not available in demo dataset</td>\n",
       "      <td>not available in demo dataset</td>\n",
       "      <td>dodo.net.au</td>\n",
       "      <td>not available in demo dataset</td>\n",
       "      <td>not available in demo dataset</td>\n",
       "      <td>not available in demo dataset</td>\n",
       "      <td>1</td>\n",
       "      <td>1</td>\n",
       "      <td>1.0</td>\n",
       "      <td>1.0</td>\n",
       "      <td>1.0</td>\n",
       "      <td>NaN</td>\n",
       "      <td>(not set)</td>\n",
       "      <td>google</td>\n",
       "      <td>organic</td>\n",
       "      <td>(not provided)</td>\n",
       "      <td>not available in demo dataset</td>\n",
       "      <td>NaN</td>\n",
       "      <td>NaN</td>\n",
       "      <td>NaN</td>\n",
       "      <td>NaN</td>\n",
       "      <td>NaN</td>\n",
       "      <td>NaN</td>\n",
       "      <td>NaN</td>\n",
       "      <td>NaN</td>\n",
       "      <td>NaN</td>\n",
       "    </tr>\n",
       "    <tr>\n",
       "      <th>2</th>\n",
       "      <td>2</td>\n",
       "      <td>Organic Search</td>\n",
       "      <td>20160902</td>\n",
       "      <td>3895546263509774583</td>\n",
       "      <td>3895546263509774583_1472865386</td>\n",
       "      <td>Not Socially Engaged</td>\n",
       "      <td>1472865386</td>\n",
       "      <td>1</td>\n",
       "      <td>1472865386</td>\n",
       "      <td>Chrome</td>\n",
       "      <td>not available in demo dataset</td>\n",
       "      <td>not available in demo dataset</td>\n",
       "      <td>Windows</td>\n",
       "      <td>not available in demo dataset</td>\n",
       "      <td>False</td>\n",
       "      <td>not available in demo dataset</td>\n",
       "      <td>not available in demo dataset</td>\n",
       "      <td>not available in demo dataset</td>\n",
       "      <td>not available in demo dataset</td>\n",
       "      <td>not available in demo dataset</td>\n",
       "      <td>not available in demo dataset</td>\n",
       "      <td>not available in demo dataset</td>\n",
       "      <td>not available in demo dataset</td>\n",
       "      <td>not available in demo dataset</td>\n",
       "      <td>desktop</td>\n",
       "      <td>Europe</td>\n",
       "      <td>Southern Europe</td>\n",
       "      <td>Spain</td>\n",
       "      <td>Community of Madrid</td>\n",
       "      <td>(not set)</td>\n",
       "      <td>Madrid</td>\n",
       "      <td>not available in demo dataset</td>\n",
       "      <td>unknown.unknown</td>\n",
       "      <td>not available in demo dataset</td>\n",
       "      <td>not available in demo dataset</td>\n",
       "      <td>not available in demo dataset</td>\n",
       "      <td>1</td>\n",
       "      <td>1</td>\n",
       "      <td>1.0</td>\n",
       "      <td>1.0</td>\n",
       "      <td>1.0</td>\n",
       "      <td>NaN</td>\n",
       "      <td>(not set)</td>\n",
       "      <td>google</td>\n",
       "      <td>organic</td>\n",
       "      <td>(not provided)</td>\n",
       "      <td>not available in demo dataset</td>\n",
       "      <td>NaN</td>\n",
       "      <td>NaN</td>\n",
       "      <td>NaN</td>\n",
       "      <td>NaN</td>\n",
       "      <td>NaN</td>\n",
       "      <td>NaN</td>\n",
       "      <td>NaN</td>\n",
       "      <td>NaN</td>\n",
       "      <td>NaN</td>\n",
       "    </tr>\n",
       "    <tr>\n",
       "      <th>3</th>\n",
       "      <td>3</td>\n",
       "      <td>Organic Search</td>\n",
       "      <td>20160902</td>\n",
       "      <td>4763447161404445595</td>\n",
       "      <td>4763447161404445595_1472881213</td>\n",
       "      <td>Not Socially Engaged</td>\n",
       "      <td>1472881213</td>\n",
       "      <td>1</td>\n",
       "      <td>1472881213</td>\n",
       "      <td>UC Browser</td>\n",
       "      <td>not available in demo dataset</td>\n",
       "      <td>not available in demo dataset</td>\n",
       "      <td>Linux</td>\n",
       "      <td>not available in demo dataset</td>\n",
       "      <td>False</td>\n",
       "      <td>not available in demo dataset</td>\n",
       "      <td>not available in demo dataset</td>\n",
       "      <td>not available in demo dataset</td>\n",
       "      <td>not available in demo dataset</td>\n",
       "      <td>not available in demo dataset</td>\n",
       "      <td>not available in demo dataset</td>\n",
       "      <td>not available in demo dataset</td>\n",
       "      <td>not available in demo dataset</td>\n",
       "      <td>not available in demo dataset</td>\n",
       "      <td>desktop</td>\n",
       "      <td>Asia</td>\n",
       "      <td>Southeast Asia</td>\n",
       "      <td>Indonesia</td>\n",
       "      <td>not available in demo dataset</td>\n",
       "      <td>not available in demo dataset</td>\n",
       "      <td>not available in demo dataset</td>\n",
       "      <td>not available in demo dataset</td>\n",
       "      <td>unknown.unknown</td>\n",
       "      <td>not available in demo dataset</td>\n",
       "      <td>not available in demo dataset</td>\n",
       "      <td>not available in demo dataset</td>\n",
       "      <td>1</td>\n",
       "      <td>1</td>\n",
       "      <td>1.0</td>\n",
       "      <td>1.0</td>\n",
       "      <td>1.0</td>\n",
       "      <td>NaN</td>\n",
       "      <td>(not set)</td>\n",
       "      <td>google</td>\n",
       "      <td>organic</td>\n",
       "      <td>google + online</td>\n",
       "      <td>not available in demo dataset</td>\n",
       "      <td>NaN</td>\n",
       "      <td>NaN</td>\n",
       "      <td>NaN</td>\n",
       "      <td>NaN</td>\n",
       "      <td>NaN</td>\n",
       "      <td>NaN</td>\n",
       "      <td>NaN</td>\n",
       "      <td>NaN</td>\n",
       "      <td>NaN</td>\n",
       "    </tr>\n",
       "    <tr>\n",
       "      <th>4</th>\n",
       "      <td>4</td>\n",
       "      <td>Organic Search</td>\n",
       "      <td>20160902</td>\n",
       "      <td>27294437909732085</td>\n",
       "      <td>27294437909732085_1472822600</td>\n",
       "      <td>Not Socially Engaged</td>\n",
       "      <td>1472822600</td>\n",
       "      <td>2</td>\n",
       "      <td>1472822600</td>\n",
       "      <td>Chrome</td>\n",
       "      <td>not available in demo dataset</td>\n",
       "      <td>not available in demo dataset</td>\n",
       "      <td>Android</td>\n",
       "      <td>not available in demo dataset</td>\n",
       "      <td>True</td>\n",
       "      <td>not available in demo dataset</td>\n",
       "      <td>not available in demo dataset</td>\n",
       "      <td>not available in demo dataset</td>\n",
       "      <td>not available in demo dataset</td>\n",
       "      <td>not available in demo dataset</td>\n",
       "      <td>not available in demo dataset</td>\n",
       "      <td>not available in demo dataset</td>\n",
       "      <td>not available in demo dataset</td>\n",
       "      <td>not available in demo dataset</td>\n",
       "      <td>mobile</td>\n",
       "      <td>Europe</td>\n",
       "      <td>Northern Europe</td>\n",
       "      <td>United Kingdom</td>\n",
       "      <td>not available in demo dataset</td>\n",
       "      <td>not available in demo dataset</td>\n",
       "      <td>not available in demo dataset</td>\n",
       "      <td>not available in demo dataset</td>\n",
       "      <td>unknown.unknown</td>\n",
       "      <td>not available in demo dataset</td>\n",
       "      <td>not available in demo dataset</td>\n",
       "      <td>not available in demo dataset</td>\n",
       "      <td>1</td>\n",
       "      <td>1</td>\n",
       "      <td>1.0</td>\n",
       "      <td>1.0</td>\n",
       "      <td>NaN</td>\n",
       "      <td>NaN</td>\n",
       "      <td>(not set)</td>\n",
       "      <td>google</td>\n",
       "      <td>organic</td>\n",
       "      <td>(not provided)</td>\n",
       "      <td>not available in demo dataset</td>\n",
       "      <td>True</td>\n",
       "      <td>NaN</td>\n",
       "      <td>NaN</td>\n",
       "      <td>NaN</td>\n",
       "      <td>NaN</td>\n",
       "      <td>NaN</td>\n",
       "      <td>NaN</td>\n",
       "      <td>NaN</td>\n",
       "      <td>NaN</td>\n",
       "    </tr>\n",
       "  </tbody>\n",
       "</table>\n",
       "</div>"
      ],
      "text/plain": [
       "   Unnamed: 0  ... trafficSource.campaignCode\n",
       "0           0  ...                        NaN\n",
       "1           1  ...                        NaN\n",
       "2           2  ...                        NaN\n",
       "3           3  ...                        NaN\n",
       "4           4  ...                        NaN\n",
       "\n",
       "[5 rows x 56 columns]"
      ]
     },
     "execution_count": 3,
     "metadata": {
      "tags": []
     },
     "output_type": "execute_result"
    }
   ],
   "source": [
    "data.head()"
   ]
  },
  {
   "cell_type": "code",
   "execution_count": 4,
   "metadata": {
    "executionInfo": {
     "elapsed": 21391,
     "status": "ok",
     "timestamp": 1612019324853,
     "user": {
      "displayName": "akshay aa",
      "photoUrl": "",
      "userId": "01833097046762434427"
     },
     "user_tz": -330
    },
    "id": "aG1lo3tyhWgH"
   },
   "outputs": [],
   "source": [
    "data.drop(\"Unnamed: 0\",inplace=True,axis=1)"
   ]
  },
  {
   "cell_type": "code",
   "execution_count": 5,
   "metadata": {
    "colab": {
     "base_uri": "https://localhost:8080/"
    },
    "executionInfo": {
     "elapsed": 21379,
     "status": "ok",
     "timestamp": 1612019324855,
     "user": {
      "displayName": "akshay aa",
      "photoUrl": "",
      "userId": "01833097046762434427"
     },
     "user_tz": -330
    },
    "id": "GC8u9s5QhX0A",
    "outputId": "2cb03107-be8d-4f2e-b425-50283cef711f"
   },
   "outputs": [
    {
     "data": {
      "text/plain": [
       "Index(['channelGrouping', 'date', 'fullVisitorId', 'sessionId',\n",
       "       'socialEngagementType', 'visitId', 'visitNumber', 'visitStartTime',\n",
       "       'device.browser', 'device.browserVersion', 'device.browserSize',\n",
       "       'device.operatingSystem', 'device.operatingSystemVersion',\n",
       "       'device.isMobile', 'device.mobileDeviceBranding',\n",
       "       'device.mobileDeviceModel', 'device.mobileInputSelector',\n",
       "       'device.mobileDeviceInfo', 'device.mobileDeviceMarketingName',\n",
       "       'device.flashVersion', 'device.language', 'device.screenColors',\n",
       "       'device.screenResolution', 'device.deviceCategory',\n",
       "       'geoNetwork.continent', 'geoNetwork.subContinent', 'geoNetwork.country',\n",
       "       'geoNetwork.region', 'geoNetwork.metro', 'geoNetwork.city',\n",
       "       'geoNetwork.cityId', 'geoNetwork.networkDomain', 'geoNetwork.latitude',\n",
       "       'geoNetwork.longitude', 'geoNetwork.networkLocation', 'totals.visits',\n",
       "       'totals.hits', 'totals.pageviews', 'totals.bounces', 'totals.newVisits',\n",
       "       'totals.transactionRevenue', 'trafficSource.campaign',\n",
       "       'trafficSource.source', 'trafficSource.medium', 'trafficSource.keyword',\n",
       "       'trafficSource.adwordsClickInfo.criteriaParameters',\n",
       "       'trafficSource.isTrueDirect', 'trafficSource.referralPath',\n",
       "       'trafficSource.adwordsClickInfo.page',\n",
       "       'trafficSource.adwordsClickInfo.slot',\n",
       "       'trafficSource.adwordsClickInfo.gclId',\n",
       "       'trafficSource.adwordsClickInfo.adNetworkType',\n",
       "       'trafficSource.adwordsClickInfo.isVideoAd', 'trafficSource.adContent',\n",
       "       'trafficSource.campaignCode'],\n",
       "      dtype='object')"
      ]
     },
     "execution_count": 5,
     "metadata": {
      "tags": []
     },
     "output_type": "execute_result"
    }
   ],
   "source": [
    "data.columns"
   ]
  },
  {
   "cell_type": "code",
   "execution_count": 6,
   "metadata": {
    "colab": {
     "base_uri": "https://localhost:8080/"
    },
    "executionInfo": {
     "elapsed": 23120,
     "status": "ok",
     "timestamp": 1612019326624,
     "user": {
      "displayName": "akshay aa",
      "photoUrl": "",
      "userId": "01833097046762434427"
     },
     "user_tz": -330
    },
    "id": "5U-Z8pj3hglw",
    "outputId": "c6a0f556-e977-47dd-fe8d-e7d782c7237d"
   },
   "outputs": [
    {
     "data": {
      "text/plain": [
       "channelGrouping                                           0\n",
       "date                                                      0\n",
       "fullVisitorId                                             0\n",
       "sessionId                                                 0\n",
       "socialEngagementType                                      0\n",
       "visitId                                                   0\n",
       "visitNumber                                               0\n",
       "visitStartTime                                            0\n",
       "device.browser                                            0\n",
       "device.browserVersion                                     0\n",
       "device.browserSize                                        0\n",
       "device.operatingSystem                                    0\n",
       "device.operatingSystemVersion                             0\n",
       "device.isMobile                                           0\n",
       "device.mobileDeviceBranding                               0\n",
       "device.mobileDeviceModel                                  0\n",
       "device.mobileInputSelector                                0\n",
       "device.mobileDeviceInfo                                   0\n",
       "device.mobileDeviceMarketingName                          0\n",
       "device.flashVersion                                       0\n",
       "device.language                                           0\n",
       "device.screenColors                                       0\n",
       "device.screenResolution                                   0\n",
       "device.deviceCategory                                     0\n",
       "geoNetwork.continent                                      0\n",
       "geoNetwork.subContinent                                   0\n",
       "geoNetwork.country                                        0\n",
       "geoNetwork.region                                         0\n",
       "geoNetwork.metro                                          0\n",
       "geoNetwork.city                                           0\n",
       "geoNetwork.cityId                                         0\n",
       "geoNetwork.networkDomain                                  0\n",
       "geoNetwork.latitude                                       0\n",
       "geoNetwork.longitude                                      0\n",
       "geoNetwork.networkLocation                                0\n",
       "totals.visits                                             0\n",
       "totals.hits                                               0\n",
       "totals.pageviews                                        100\n",
       "totals.bounces                                       453023\n",
       "totals.newVisits                                     200593\n",
       "totals.transactionRevenue                            892138\n",
       "trafficSource.campaign                                    0\n",
       "trafficSource.source                                      0\n",
       "trafficSource.medium                                      0\n",
       "trafficSource.keyword                                502929\n",
       "trafficSource.adwordsClickInfo.criteriaParameters         0\n",
       "trafficSource.isTrueDirect                           629648\n",
       "trafficSource.referralPath                           572712\n",
       "trafficSource.adwordsClickInfo.page                  882193\n",
       "trafficSource.adwordsClickInfo.slot                  882193\n",
       "trafficSource.adwordsClickInfo.gclId                 882092\n",
       "trafficSource.adwordsClickInfo.adNetworkType         882193\n",
       "trafficSource.adwordsClickInfo.isVideoAd             882193\n",
       "trafficSource.adContent                              892707\n",
       "trafficSource.campaignCode                           903652\n",
       "dtype: int64"
      ]
     },
     "execution_count": 6,
     "metadata": {
      "tags": []
     },
     "output_type": "execute_result"
    }
   ],
   "source": [
    "data.isnull().sum()"
   ]
  },
  {
   "cell_type": "code",
   "execution_count": 7,
   "metadata": {
    "executionInfo": {
     "elapsed": 23098,
     "status": "ok",
     "timestamp": 1612019326626,
     "user": {
      "displayName": "akshay aa",
      "photoUrl": "",
      "userId": "01833097046762434427"
     },
     "user_tz": -330
    },
    "id": "QAy8KZBvhxB7"
   },
   "outputs": [],
   "source": [
    "col_drop = [\"trafficSource.campaignCode\",\"trafficSource.adContent\",\"trafficSource.adwordsClickInfo.isVideoAd\",\"trafficSource.adwordsClickInfo.adNetworkType\",\"trafficSource.adwordsClickInfo.gclId\",\"trafficSource.adwordsClickInfo.slot\",\"trafficSource.adwordsClickInfo.page\",\"trafficSource.referralPath\",\"trafficSource.isTrueDirect\",\"trafficSource.keyword\",\"totals.newVisits\",\"totals.bounces\"]"
   ]
  },
  {
   "cell_type": "code",
   "execution_count": 8,
   "metadata": {
    "executionInfo": {
     "elapsed": 23081,
     "status": "ok",
     "timestamp": 1612019326627,
     "user": {
      "displayName": "akshay aa",
      "photoUrl": "",
      "userId": "01833097046762434427"
     },
     "user_tz": -330
    },
    "id": "yglEj4Xkh2U5"
   },
   "outputs": [],
   "source": [
    "data.drop(col_drop,inplace=True,axis=1)"
   ]
  },
  {
   "cell_type": "code",
   "execution_count": 9,
   "metadata": {
    "colab": {
     "base_uri": "https://localhost:8080/"
    },
    "executionInfo": {
     "elapsed": 23065,
     "status": "ok",
     "timestamp": 1612019326628,
     "user": {
      "displayName": "akshay aa",
      "photoUrl": "",
      "userId": "01833097046762434427"
     },
     "user_tz": -330
    },
    "id": "ea1_l53_ilEO",
    "outputId": "39c958f6-e9d7-4393-9781-d3e9f67c5cd9"
   },
   "outputs": [
    {
     "data": {
      "text/plain": [
       "(903653, 43)"
      ]
     },
     "execution_count": 9,
     "metadata": {
      "tags": []
     },
     "output_type": "execute_result"
    }
   ],
   "source": [
    "data.shape"
   ]
  },
  {
   "cell_type": "code",
   "execution_count": 10,
   "metadata": {
    "colab": {
     "base_uri": "https://localhost:8080/"
    },
    "executionInfo": {
     "elapsed": 24076,
     "status": "ok",
     "timestamp": 1612019327667,
     "user": {
      "displayName": "akshay aa",
      "photoUrl": "",
      "userId": "01833097046762434427"
     },
     "user_tz": -330
    },
    "id": "plpTQnBliu0y",
    "outputId": "83cb6b70-015e-46ab-d75e-0240d09392cc"
   },
   "outputs": [
    {
     "data": {
      "text/plain": [
       "channelGrouping                                           0\n",
       "date                                                      0\n",
       "fullVisitorId                                             0\n",
       "sessionId                                                 0\n",
       "socialEngagementType                                      0\n",
       "visitId                                                   0\n",
       "visitNumber                                               0\n",
       "visitStartTime                                            0\n",
       "device.browser                                            0\n",
       "device.browserVersion                                     0\n",
       "device.browserSize                                        0\n",
       "device.operatingSystem                                    0\n",
       "device.operatingSystemVersion                             0\n",
       "device.isMobile                                           0\n",
       "device.mobileDeviceBranding                               0\n",
       "device.mobileDeviceModel                                  0\n",
       "device.mobileInputSelector                                0\n",
       "device.mobileDeviceInfo                                   0\n",
       "device.mobileDeviceMarketingName                          0\n",
       "device.flashVersion                                       0\n",
       "device.language                                           0\n",
       "device.screenColors                                       0\n",
       "device.screenResolution                                   0\n",
       "device.deviceCategory                                     0\n",
       "geoNetwork.continent                                      0\n",
       "geoNetwork.subContinent                                   0\n",
       "geoNetwork.country                                        0\n",
       "geoNetwork.region                                         0\n",
       "geoNetwork.metro                                          0\n",
       "geoNetwork.city                                           0\n",
       "geoNetwork.cityId                                         0\n",
       "geoNetwork.networkDomain                                  0\n",
       "geoNetwork.latitude                                       0\n",
       "geoNetwork.longitude                                      0\n",
       "geoNetwork.networkLocation                                0\n",
       "totals.visits                                             0\n",
       "totals.hits                                               0\n",
       "totals.pageviews                                        100\n",
       "totals.transactionRevenue                            892138\n",
       "trafficSource.campaign                                    0\n",
       "trafficSource.source                                      0\n",
       "trafficSource.medium                                      0\n",
       "trafficSource.adwordsClickInfo.criteriaParameters         0\n",
       "dtype: int64"
      ]
     },
     "execution_count": 10,
     "metadata": {
      "tags": []
     },
     "output_type": "execute_result"
    }
   ],
   "source": [
    "data.isnull().sum()"
   ]
  },
  {
   "cell_type": "code",
   "execution_count": 11,
   "metadata": {
    "executionInfo": {
     "elapsed": 26715,
     "status": "ok",
     "timestamp": 1612019330328,
     "user": {
      "displayName": "akshay aa",
      "photoUrl": "",
      "userId": "01833097046762434427"
     },
     "user_tz": -330
    },
    "id": "p9P-4lDQMGDC"
   },
   "outputs": [],
   "source": [
    "revenue_generated = data.dropna(axis=0)"
   ]
  },
  {
   "cell_type": "code",
   "execution_count": 36,
   "metadata": {
    "colab": {
     "base_uri": "https://localhost:8080/",
     "height": 626
    },
    "executionInfo": {
     "elapsed": 1323,
     "status": "ok",
     "timestamp": 1612020756463,
     "user": {
      "displayName": "akshay aa",
      "photoUrl": "",
      "userId": "01833097046762434427"
     },
     "user_tz": -330
    },
    "id": "0o1v119vMRJE",
    "outputId": "709166fc-9d34-4ed3-8931-e92a4d338ec6"
   },
   "outputs": [
    {
     "data": {
      "text/html": [
       "<div>\n",
       "<style scoped>\n",
       "    .dataframe tbody tr th:only-of-type {\n",
       "        vertical-align: middle;\n",
       "    }\n",
       "\n",
       "    .dataframe tbody tr th {\n",
       "        vertical-align: top;\n",
       "    }\n",
       "\n",
       "    .dataframe thead th {\n",
       "        text-align: right;\n",
       "    }\n",
       "</style>\n",
       "<table border=\"1\" class=\"dataframe\">\n",
       "  <thead>\n",
       "    <tr style=\"text-align: right;\">\n",
       "      <th></th>\n",
       "      <th>channelGrouping</th>\n",
       "      <th>date</th>\n",
       "      <th>fullVisitorId</th>\n",
       "      <th>sessionId</th>\n",
       "      <th>socialEngagementType</th>\n",
       "      <th>visitId</th>\n",
       "      <th>visitNumber</th>\n",
       "      <th>visitStartTime</th>\n",
       "      <th>device.browser</th>\n",
       "      <th>device.browserVersion</th>\n",
       "      <th>device.browserSize</th>\n",
       "      <th>device.operatingSystem</th>\n",
       "      <th>device.operatingSystemVersion</th>\n",
       "      <th>device.isMobile</th>\n",
       "      <th>device.mobileDeviceBranding</th>\n",
       "      <th>device.mobileDeviceModel</th>\n",
       "      <th>device.mobileInputSelector</th>\n",
       "      <th>device.mobileDeviceInfo</th>\n",
       "      <th>device.mobileDeviceMarketingName</th>\n",
       "      <th>device.flashVersion</th>\n",
       "      <th>device.language</th>\n",
       "      <th>device.screenColors</th>\n",
       "      <th>device.screenResolution</th>\n",
       "      <th>device.deviceCategory</th>\n",
       "      <th>geoNetwork.continent</th>\n",
       "      <th>geoNetwork.subContinent</th>\n",
       "      <th>geoNetwork.country</th>\n",
       "      <th>geoNetwork.region</th>\n",
       "      <th>geoNetwork.metro</th>\n",
       "      <th>geoNetwork.city</th>\n",
       "      <th>geoNetwork.cityId</th>\n",
       "      <th>geoNetwork.networkDomain</th>\n",
       "      <th>geoNetwork.latitude</th>\n",
       "      <th>geoNetwork.longitude</th>\n",
       "      <th>geoNetwork.networkLocation</th>\n",
       "      <th>totals.visits</th>\n",
       "      <th>totals.hits</th>\n",
       "      <th>totals.pageviews</th>\n",
       "      <th>totals.transactionRevenue</th>\n",
       "      <th>trafficSource.campaign</th>\n",
       "      <th>trafficSource.source</th>\n",
       "      <th>trafficSource.medium</th>\n",
       "      <th>trafficSource.adwordsClickInfo.criteriaParameters</th>\n",
       "    </tr>\n",
       "  </thead>\n",
       "  <tbody>\n",
       "    <tr>\n",
       "      <th>752</th>\n",
       "      <td>Direct</td>\n",
       "      <td>20160902</td>\n",
       "      <td>6194193421514403509</td>\n",
       "      <td>6194193421514403509_1472843572</td>\n",
       "      <td>Not Socially Engaged</td>\n",
       "      <td>1472843572</td>\n",
       "      <td>1</td>\n",
       "      <td>1472843572</td>\n",
       "      <td>Chrome</td>\n",
       "      <td>not available in demo dataset</td>\n",
       "      <td>not available in demo dataset</td>\n",
       "      <td>Linux</td>\n",
       "      <td>not available in demo dataset</td>\n",
       "      <td>False</td>\n",
       "      <td>not available in demo dataset</td>\n",
       "      <td>not available in demo dataset</td>\n",
       "      <td>not available in demo dataset</td>\n",
       "      <td>not available in demo dataset</td>\n",
       "      <td>not available in demo dataset</td>\n",
       "      <td>not available in demo dataset</td>\n",
       "      <td>not available in demo dataset</td>\n",
       "      <td>not available in demo dataset</td>\n",
       "      <td>not available in demo dataset</td>\n",
       "      <td>desktop</td>\n",
       "      <td>Americas</td>\n",
       "      <td>Northern America</td>\n",
       "      <td>United States</td>\n",
       "      <td>Michigan</td>\n",
       "      <td>Detroit MI</td>\n",
       "      <td>Ann Arbor</td>\n",
       "      <td>not available in demo dataset</td>\n",
       "      <td>(not set)</td>\n",
       "      <td>not available in demo dataset</td>\n",
       "      <td>not available in demo dataset</td>\n",
       "      <td>not available in demo dataset</td>\n",
       "      <td>1</td>\n",
       "      <td>11</td>\n",
       "      <td>11.0</td>\n",
       "      <td>25.174171</td>\n",
       "      <td>(not set)</td>\n",
       "      <td>(direct)</td>\n",
       "      <td>(none)</td>\n",
       "      <td>not available in demo dataset</td>\n",
       "    </tr>\n",
       "    <tr>\n",
       "      <th>753</th>\n",
       "      <td>Organic Search</td>\n",
       "      <td>20160902</td>\n",
       "      <td>5327166854580374902</td>\n",
       "      <td>5327166854580374902_1472844906</td>\n",
       "      <td>Not Socially Engaged</td>\n",
       "      <td>1472844906</td>\n",
       "      <td>3</td>\n",
       "      <td>1472844906</td>\n",
       "      <td>Chrome</td>\n",
       "      <td>not available in demo dataset</td>\n",
       "      <td>not available in demo dataset</td>\n",
       "      <td>Macintosh</td>\n",
       "      <td>not available in demo dataset</td>\n",
       "      <td>False</td>\n",
       "      <td>not available in demo dataset</td>\n",
       "      <td>not available in demo dataset</td>\n",
       "      <td>not available in demo dataset</td>\n",
       "      <td>not available in demo dataset</td>\n",
       "      <td>not available in demo dataset</td>\n",
       "      <td>not available in demo dataset</td>\n",
       "      <td>not available in demo dataset</td>\n",
       "      <td>not available in demo dataset</td>\n",
       "      <td>not available in demo dataset</td>\n",
       "      <td>desktop</td>\n",
       "      <td>Americas</td>\n",
       "      <td>Northern America</td>\n",
       "      <td>United States</td>\n",
       "      <td>New York</td>\n",
       "      <td>New York NY</td>\n",
       "      <td>New York</td>\n",
       "      <td>not available in demo dataset</td>\n",
       "      <td>(not set)</td>\n",
       "      <td>not available in demo dataset</td>\n",
       "      <td>not available in demo dataset</td>\n",
       "      <td>not available in demo dataset</td>\n",
       "      <td>1</td>\n",
       "      <td>11</td>\n",
       "      <td>10.0</td>\n",
       "      <td>28.192112</td>\n",
       "      <td>(not set)</td>\n",
       "      <td>google</td>\n",
       "      <td>organic</td>\n",
       "      <td>not available in demo dataset</td>\n",
       "    </tr>\n",
       "    <tr>\n",
       "      <th>799</th>\n",
       "      <td>Referral</td>\n",
       "      <td>20160902</td>\n",
       "      <td>8885051388942907862</td>\n",
       "      <td>8885051388942907862_1472827393</td>\n",
       "      <td>Not Socially Engaged</td>\n",
       "      <td>1472827393</td>\n",
       "      <td>7</td>\n",
       "      <td>1472827393</td>\n",
       "      <td>Chrome</td>\n",
       "      <td>not available in demo dataset</td>\n",
       "      <td>not available in demo dataset</td>\n",
       "      <td>Linux</td>\n",
       "      <td>not available in demo dataset</td>\n",
       "      <td>False</td>\n",
       "      <td>not available in demo dataset</td>\n",
       "      <td>not available in demo dataset</td>\n",
       "      <td>not available in demo dataset</td>\n",
       "      <td>not available in demo dataset</td>\n",
       "      <td>not available in demo dataset</td>\n",
       "      <td>not available in demo dataset</td>\n",
       "      <td>not available in demo dataset</td>\n",
       "      <td>not available in demo dataset</td>\n",
       "      <td>not available in demo dataset</td>\n",
       "      <td>desktop</td>\n",
       "      <td>Americas</td>\n",
       "      <td>Northern America</td>\n",
       "      <td>United States</td>\n",
       "      <td>New York</td>\n",
       "      <td>New York NY</td>\n",
       "      <td>New York</td>\n",
       "      <td>not available in demo dataset</td>\n",
       "      <td>(not set)</td>\n",
       "      <td>not available in demo dataset</td>\n",
       "      <td>not available in demo dataset</td>\n",
       "      <td>not available in demo dataset</td>\n",
       "      <td>1</td>\n",
       "      <td>13</td>\n",
       "      <td>11.0</td>\n",
       "      <td>26.019668</td>\n",
       "      <td>(not set)</td>\n",
       "      <td>mall.googleplex.com</td>\n",
       "      <td>referral</td>\n",
       "      <td>not available in demo dataset</td>\n",
       "    </tr>\n",
       "    <tr>\n",
       "      <th>802</th>\n",
       "      <td>Referral</td>\n",
       "      <td>20160902</td>\n",
       "      <td>185467632009737931</td>\n",
       "      <td>0185467632009737931_1472846398</td>\n",
       "      <td>Not Socially Engaged</td>\n",
       "      <td>1472846398</td>\n",
       "      <td>6</td>\n",
       "      <td>1472846398</td>\n",
       "      <td>Chrome</td>\n",
       "      <td>not available in demo dataset</td>\n",
       "      <td>not available in demo dataset</td>\n",
       "      <td>Windows</td>\n",
       "      <td>not available in demo dataset</td>\n",
       "      <td>False</td>\n",
       "      <td>not available in demo dataset</td>\n",
       "      <td>not available in demo dataset</td>\n",
       "      <td>not available in demo dataset</td>\n",
       "      <td>not available in demo dataset</td>\n",
       "      <td>not available in demo dataset</td>\n",
       "      <td>not available in demo dataset</td>\n",
       "      <td>not available in demo dataset</td>\n",
       "      <td>not available in demo dataset</td>\n",
       "      <td>not available in demo dataset</td>\n",
       "      <td>desktop</td>\n",
       "      <td>Americas</td>\n",
       "      <td>Northern America</td>\n",
       "      <td>United States</td>\n",
       "      <td>California</td>\n",
       "      <td>San Francisco-Oakland-San Jose CA</td>\n",
       "      <td>Mountain View</td>\n",
       "      <td>not available in demo dataset</td>\n",
       "      <td>(not set)</td>\n",
       "      <td>not available in demo dataset</td>\n",
       "      <td>not available in demo dataset</td>\n",
       "      <td>not available in demo dataset</td>\n",
       "      <td>1</td>\n",
       "      <td>13</td>\n",
       "      <td>12.0</td>\n",
       "      <td>24.645814</td>\n",
       "      <td>(not set)</td>\n",
       "      <td>mall.googleplex.com</td>\n",
       "      <td>referral</td>\n",
       "      <td>not available in demo dataset</td>\n",
       "    </tr>\n",
       "    <tr>\n",
       "      <th>859</th>\n",
       "      <td>Referral</td>\n",
       "      <td>20160902</td>\n",
       "      <td>3244885836845029978</td>\n",
       "      <td>3244885836845029978_1472824817</td>\n",
       "      <td>Not Socially Engaged</td>\n",
       "      <td>1472824817</td>\n",
       "      <td>4</td>\n",
       "      <td>1472824817</td>\n",
       "      <td>Chrome</td>\n",
       "      <td>not available in demo dataset</td>\n",
       "      <td>not available in demo dataset</td>\n",
       "      <td>Macintosh</td>\n",
       "      <td>not available in demo dataset</td>\n",
       "      <td>False</td>\n",
       "      <td>not available in demo dataset</td>\n",
       "      <td>not available in demo dataset</td>\n",
       "      <td>not available in demo dataset</td>\n",
       "      <td>not available in demo dataset</td>\n",
       "      <td>not available in demo dataset</td>\n",
       "      <td>not available in demo dataset</td>\n",
       "      <td>not available in demo dataset</td>\n",
       "      <td>not available in demo dataset</td>\n",
       "      <td>not available in demo dataset</td>\n",
       "      <td>desktop</td>\n",
       "      <td>Americas</td>\n",
       "      <td>Northern America</td>\n",
       "      <td>United States</td>\n",
       "      <td>not available in demo dataset</td>\n",
       "      <td>not available in demo dataset</td>\n",
       "      <td>not available in demo dataset</td>\n",
       "      <td>not available in demo dataset</td>\n",
       "      <td>(not set)</td>\n",
       "      <td>not available in demo dataset</td>\n",
       "      <td>not available in demo dataset</td>\n",
       "      <td>not available in demo dataset</td>\n",
       "      <td>1</td>\n",
       "      <td>17</td>\n",
       "      <td>14.0</td>\n",
       "      <td>29.096852</td>\n",
       "      <td>(not set)</td>\n",
       "      <td>mall.googleplex.com</td>\n",
       "      <td>referral</td>\n",
       "      <td>not available in demo dataset</td>\n",
       "    </tr>\n",
       "    <tr>\n",
       "      <th>...</th>\n",
       "      <td>...</td>\n",
       "      <td>...</td>\n",
       "      <td>...</td>\n",
       "      <td>...</td>\n",
       "      <td>...</td>\n",
       "      <td>...</td>\n",
       "      <td>...</td>\n",
       "      <td>...</td>\n",
       "      <td>...</td>\n",
       "      <td>...</td>\n",
       "      <td>...</td>\n",
       "      <td>...</td>\n",
       "      <td>...</td>\n",
       "      <td>...</td>\n",
       "      <td>...</td>\n",
       "      <td>...</td>\n",
       "      <td>...</td>\n",
       "      <td>...</td>\n",
       "      <td>...</td>\n",
       "      <td>...</td>\n",
       "      <td>...</td>\n",
       "      <td>...</td>\n",
       "      <td>...</td>\n",
       "      <td>...</td>\n",
       "      <td>...</td>\n",
       "      <td>...</td>\n",
       "      <td>...</td>\n",
       "      <td>...</td>\n",
       "      <td>...</td>\n",
       "      <td>...</td>\n",
       "      <td>...</td>\n",
       "      <td>...</td>\n",
       "      <td>...</td>\n",
       "      <td>...</td>\n",
       "      <td>...</td>\n",
       "      <td>...</td>\n",
       "      <td>...</td>\n",
       "      <td>...</td>\n",
       "      <td>...</td>\n",
       "      <td>...</td>\n",
       "      <td>...</td>\n",
       "      <td>...</td>\n",
       "      <td>...</td>\n",
       "    </tr>\n",
       "    <tr>\n",
       "      <th>903302</th>\n",
       "      <td>Referral</td>\n",
       "      <td>20170104</td>\n",
       "      <td>6849604863010168468</td>\n",
       "      <td>6849604863010168468_1483566314</td>\n",
       "      <td>Not Socially Engaged</td>\n",
       "      <td>1483566314</td>\n",
       "      <td>10</td>\n",
       "      <td>1483566314</td>\n",
       "      <td>Chrome</td>\n",
       "      <td>not available in demo dataset</td>\n",
       "      <td>not available in demo dataset</td>\n",
       "      <td>Macintosh</td>\n",
       "      <td>not available in demo dataset</td>\n",
       "      <td>False</td>\n",
       "      <td>not available in demo dataset</td>\n",
       "      <td>not available in demo dataset</td>\n",
       "      <td>not available in demo dataset</td>\n",
       "      <td>not available in demo dataset</td>\n",
       "      <td>not available in demo dataset</td>\n",
       "      <td>not available in demo dataset</td>\n",
       "      <td>not available in demo dataset</td>\n",
       "      <td>not available in demo dataset</td>\n",
       "      <td>not available in demo dataset</td>\n",
       "      <td>desktop</td>\n",
       "      <td>Americas</td>\n",
       "      <td>Northern America</td>\n",
       "      <td>United States</td>\n",
       "      <td>New York</td>\n",
       "      <td>New York NY</td>\n",
       "      <td>New York</td>\n",
       "      <td>not available in demo dataset</td>\n",
       "      <td>(not set)</td>\n",
       "      <td>not available in demo dataset</td>\n",
       "      <td>not available in demo dataset</td>\n",
       "      <td>not available in demo dataset</td>\n",
       "      <td>1</td>\n",
       "      <td>61</td>\n",
       "      <td>48.0</td>\n",
       "      <td>28.320705</td>\n",
       "      <td>(not set)</td>\n",
       "      <td>mall.googleplex.com</td>\n",
       "      <td>referral</td>\n",
       "      <td>not available in demo dataset</td>\n",
       "    </tr>\n",
       "    <tr>\n",
       "      <th>903305</th>\n",
       "      <td>Referral</td>\n",
       "      <td>20170104</td>\n",
       "      <td>211986650009953276</td>\n",
       "      <td>0211986650009953276_1483568879</td>\n",
       "      <td>Not Socially Engaged</td>\n",
       "      <td>1483568879</td>\n",
       "      <td>2</td>\n",
       "      <td>1483568879</td>\n",
       "      <td>Chrome</td>\n",
       "      <td>not available in demo dataset</td>\n",
       "      <td>not available in demo dataset</td>\n",
       "      <td>Macintosh</td>\n",
       "      <td>not available in demo dataset</td>\n",
       "      <td>False</td>\n",
       "      <td>not available in demo dataset</td>\n",
       "      <td>not available in demo dataset</td>\n",
       "      <td>not available in demo dataset</td>\n",
       "      <td>not available in demo dataset</td>\n",
       "      <td>not available in demo dataset</td>\n",
       "      <td>not available in demo dataset</td>\n",
       "      <td>not available in demo dataset</td>\n",
       "      <td>not available in demo dataset</td>\n",
       "      <td>not available in demo dataset</td>\n",
       "      <td>desktop</td>\n",
       "      <td>Americas</td>\n",
       "      <td>Northern America</td>\n",
       "      <td>United States</td>\n",
       "      <td>Texas</td>\n",
       "      <td>Austin TX</td>\n",
       "      <td>Austin</td>\n",
       "      <td>not available in demo dataset</td>\n",
       "      <td>(not set)</td>\n",
       "      <td>not available in demo dataset</td>\n",
       "      <td>not available in demo dataset</td>\n",
       "      <td>not available in demo dataset</td>\n",
       "      <td>1</td>\n",
       "      <td>66</td>\n",
       "      <td>30.0</td>\n",
       "      <td>29.160267</td>\n",
       "      <td>(not set)</td>\n",
       "      <td>mall.googleplex.com</td>\n",
       "      <td>referral</td>\n",
       "      <td>not available in demo dataset</td>\n",
       "    </tr>\n",
       "    <tr>\n",
       "      <th>903314</th>\n",
       "      <td>Referral</td>\n",
       "      <td>20170104</td>\n",
       "      <td>9981562221973608723</td>\n",
       "      <td>9981562221973608723_1483576938</td>\n",
       "      <td>Not Socially Engaged</td>\n",
       "      <td>1483576938</td>\n",
       "      <td>1</td>\n",
       "      <td>1483576938</td>\n",
       "      <td>Chrome</td>\n",
       "      <td>not available in demo dataset</td>\n",
       "      <td>not available in demo dataset</td>\n",
       "      <td>Macintosh</td>\n",
       "      <td>not available in demo dataset</td>\n",
       "      <td>False</td>\n",
       "      <td>not available in demo dataset</td>\n",
       "      <td>not available in demo dataset</td>\n",
       "      <td>not available in demo dataset</td>\n",
       "      <td>not available in demo dataset</td>\n",
       "      <td>not available in demo dataset</td>\n",
       "      <td>not available in demo dataset</td>\n",
       "      <td>not available in demo dataset</td>\n",
       "      <td>not available in demo dataset</td>\n",
       "      <td>not available in demo dataset</td>\n",
       "      <td>desktop</td>\n",
       "      <td>Asia</td>\n",
       "      <td>Eastern Asia</td>\n",
       "      <td>South Korea</td>\n",
       "      <td>Seoul</td>\n",
       "      <td>(not set)</td>\n",
       "      <td>Seoul</td>\n",
       "      <td>not available in demo dataset</td>\n",
       "      <td>(not set)</td>\n",
       "      <td>not available in demo dataset</td>\n",
       "      <td>not available in demo dataset</td>\n",
       "      <td>not available in demo dataset</td>\n",
       "      <td>1</td>\n",
       "      <td>122</td>\n",
       "      <td>90.0</td>\n",
       "      <td>24.874083</td>\n",
       "      <td>(not set)</td>\n",
       "      <td>mall.googleplex.com</td>\n",
       "      <td>referral</td>\n",
       "      <td>not available in demo dataset</td>\n",
       "    </tr>\n",
       "    <tr>\n",
       "      <th>903315</th>\n",
       "      <td>Direct</td>\n",
       "      <td>20170104</td>\n",
       "      <td>963126344221316701</td>\n",
       "      <td>963126344221316701_1483552674</td>\n",
       "      <td>Not Socially Engaged</td>\n",
       "      <td>1483552674</td>\n",
       "      <td>3</td>\n",
       "      <td>1483552674</td>\n",
       "      <td>Firefox</td>\n",
       "      <td>not available in demo dataset</td>\n",
       "      <td>not available in demo dataset</td>\n",
       "      <td>Macintosh</td>\n",
       "      <td>not available in demo dataset</td>\n",
       "      <td>False</td>\n",
       "      <td>not available in demo dataset</td>\n",
       "      <td>not available in demo dataset</td>\n",
       "      <td>not available in demo dataset</td>\n",
       "      <td>not available in demo dataset</td>\n",
       "      <td>not available in demo dataset</td>\n",
       "      <td>not available in demo dataset</td>\n",
       "      <td>not available in demo dataset</td>\n",
       "      <td>not available in demo dataset</td>\n",
       "      <td>not available in demo dataset</td>\n",
       "      <td>desktop</td>\n",
       "      <td>Americas</td>\n",
       "      <td>Northern America</td>\n",
       "      <td>United States</td>\n",
       "      <td>New York</td>\n",
       "      <td>New York NY</td>\n",
       "      <td>New York</td>\n",
       "      <td>not available in demo dataset</td>\n",
       "      <td>optonline.net</td>\n",
       "      <td>not available in demo dataset</td>\n",
       "      <td>not available in demo dataset</td>\n",
       "      <td>not available in demo dataset</td>\n",
       "      <td>1</td>\n",
       "      <td>130</td>\n",
       "      <td>90.0</td>\n",
       "      <td>26.048224</td>\n",
       "      <td>(not set)</td>\n",
       "      <td>(direct)</td>\n",
       "      <td>(none)</td>\n",
       "      <td>not available in demo dataset</td>\n",
       "    </tr>\n",
       "    <tr>\n",
       "      <th>903317</th>\n",
       "      <td>Direct</td>\n",
       "      <td>20170104</td>\n",
       "      <td>9771437221362506189</td>\n",
       "      <td>9771437221362506189_1483538997</td>\n",
       "      <td>Not Socially Engaged</td>\n",
       "      <td>1483538997</td>\n",
       "      <td>12</td>\n",
       "      <td>1483538997</td>\n",
       "      <td>Chrome</td>\n",
       "      <td>not available in demo dataset</td>\n",
       "      <td>not available in demo dataset</td>\n",
       "      <td>Android</td>\n",
       "      <td>not available in demo dataset</td>\n",
       "      <td>True</td>\n",
       "      <td>not available in demo dataset</td>\n",
       "      <td>not available in demo dataset</td>\n",
       "      <td>not available in demo dataset</td>\n",
       "      <td>not available in demo dataset</td>\n",
       "      <td>not available in demo dataset</td>\n",
       "      <td>not available in demo dataset</td>\n",
       "      <td>not available in demo dataset</td>\n",
       "      <td>not available in demo dataset</td>\n",
       "      <td>not available in demo dataset</td>\n",
       "      <td>mobile</td>\n",
       "      <td>Americas</td>\n",
       "      <td>Northern America</td>\n",
       "      <td>United States</td>\n",
       "      <td>not available in demo dataset</td>\n",
       "      <td>not available in demo dataset</td>\n",
       "      <td>not available in demo dataset</td>\n",
       "      <td>not available in demo dataset</td>\n",
       "      <td>(not set)</td>\n",
       "      <td>not available in demo dataset</td>\n",
       "      <td>not available in demo dataset</td>\n",
       "      <td>not available in demo dataset</td>\n",
       "      <td>1</td>\n",
       "      <td>237</td>\n",
       "      <td>169.0</td>\n",
       "      <td>26.160195</td>\n",
       "      <td>(not set)</td>\n",
       "      <td>(direct)</td>\n",
       "      <td>(none)</td>\n",
       "      <td>not available in demo dataset</td>\n",
       "    </tr>\n",
       "  </tbody>\n",
       "</table>\n",
       "<p>11515 rows × 43 columns</p>\n",
       "</div>"
      ],
      "text/plain": [
       "       channelGrouping  ...  trafficSource.adwordsClickInfo.criteriaParameters\n",
       "752             Direct  ...                      not available in demo dataset\n",
       "753     Organic Search  ...                      not available in demo dataset\n",
       "799           Referral  ...                      not available in demo dataset\n",
       "802           Referral  ...                      not available in demo dataset\n",
       "859           Referral  ...                      not available in demo dataset\n",
       "...                ...  ...                                                ...\n",
       "903302        Referral  ...                      not available in demo dataset\n",
       "903305        Referral  ...                      not available in demo dataset\n",
       "903314        Referral  ...                      not available in demo dataset\n",
       "903315          Direct  ...                      not available in demo dataset\n",
       "903317          Direct  ...                      not available in demo dataset\n",
       "\n",
       "[11515 rows x 43 columns]"
      ]
     },
     "execution_count": 36,
     "metadata": {
      "tags": []
     },
     "output_type": "execute_result"
    }
   ],
   "source": [
    "revenue_generated"
   ]
  },
  {
   "cell_type": "code",
   "execution_count": 13,
   "metadata": {
    "executionInfo": {
     "elapsed": 26683,
     "status": "ok",
     "timestamp": 1612019330332,
     "user": {
      "displayName": "akshay aa",
      "photoUrl": "",
      "userId": "01833097046762434427"
     },
     "user_tz": -330
    },
    "id": "LtS0bIdVMRMW"
   },
   "outputs": [],
   "source": [
    "revenue_not_generated = data[data[\"totals.transactionRevenue\"].isnull()]"
   ]
  },
  {
   "cell_type": "code",
   "execution_count": 14,
   "metadata": {
    "colab": {
     "base_uri": "https://localhost:8080/"
    },
    "executionInfo": {
     "elapsed": 26660,
     "status": "ok",
     "timestamp": 1612019330333,
     "user": {
      "displayName": "akshay aa",
      "photoUrl": "",
      "userId": "01833097046762434427"
     },
     "user_tz": -330
    },
    "id": "Sp1y_LRMMuJ4",
    "outputId": "637e6e35-51e0-4b86-f142-88a6d435e33f"
   },
   "outputs": [
    {
     "data": {
      "text/plain": [
       "(892138, 43)"
      ]
     },
     "execution_count": 14,
     "metadata": {
      "tags": []
     },
     "output_type": "execute_result"
    }
   ],
   "source": [
    "revenue_not_generated.shape"
   ]
  },
  {
   "cell_type": "code",
   "execution_count": 15,
   "metadata": {
    "colab": {
     "base_uri": "https://localhost:8080/"
    },
    "executionInfo": {
     "elapsed": 26629,
     "status": "ok",
     "timestamp": 1612019330334,
     "user": {
      "displayName": "akshay aa",
      "photoUrl": "",
      "userId": "01833097046762434427"
     },
     "user_tz": -330
    },
    "id": "Q3taZ0-GQ-H4",
    "outputId": "d1e2b670-f543-4769-f5a3-1afacd04701a"
   },
   "outputs": [
    {
     "name": "stderr",
     "output_type": "stream",
     "text": [
      "/usr/local/lib/python3.6/dist-packages/ipykernel_launcher.py:1: SettingWithCopyWarning: \n",
      "A value is trying to be set on a copy of a slice from a DataFrame.\n",
      "Try using .loc[row_indexer,col_indexer] = value instead\n",
      "\n",
      "See the caveats in the documentation: https://pandas.pydata.org/pandas-docs/stable/user_guide/indexing.html#returning-a-view-versus-a-copy\n",
      "  \"\"\"Entry point for launching an IPython kernel.\n",
      "/usr/local/lib/python3.6/dist-packages/ipykernel_launcher.py:2: SettingWithCopyWarning: \n",
      "A value is trying to be set on a copy of a slice from a DataFrame.\n",
      "Try using .loc[row_indexer,col_indexer] = value instead\n",
      "\n",
      "See the caveats in the documentation: https://pandas.pydata.org/pandas-docs/stable/user_guide/indexing.html#returning-a-view-versus-a-copy\n",
      "  \n"
     ]
    }
   ],
   "source": [
    "revenue_generated['totals.transactionRevenue'] = revenue_generated['totals.transactionRevenue'].astype(int)\n",
    "revenue_generated['totals.transactionRevenue'] = np.log2(revenue_generated['totals.transactionRevenue'])"
   ]
  },
  {
   "cell_type": "code",
   "execution_count": 16,
   "metadata": {
    "colab": {
     "base_uri": "https://localhost:8080/",
     "height": 313
    },
    "executionInfo": {
     "elapsed": 27133,
     "status": "ok",
     "timestamp": 1612019330888,
     "user": {
      "displayName": "akshay aa",
      "photoUrl": "",
      "userId": "01833097046762434427"
     },
     "user_tz": -330
    },
    "id": "joKtYDO2MuOI",
    "outputId": "1d32b81a-60d6-41a1-edfb-df3371217b62"
   },
   "outputs": [
    {
     "data": {
      "text/plain": [
       "Text(0.5, 0, 'Revenue')"
      ]
     },
     "execution_count": 16,
     "metadata": {
      "tags": []
     },
     "output_type": "execute_result"
    },
    {
     "data": {
      "image/png": "[encoded data removed]",
      "text/plain": [
       "<Figure size 432x288 with 1 Axes>"
      ]
     },
     "metadata": {
      "needs_background": "light",
      "tags": []
     },
     "output_type": "display_data"
    }
   ],
   "source": [
    "import matplotlib.pyplot as plt\n",
    "import seaborn as sns\n",
    "\n",
    "# matplotlib histogram\n",
    "plt.hist(revenue_generated['totals.transactionRevenue'], color = 'blue', edgecolor = 'black',\n",
    "         bins = int(100))\n",
    "\n",
    "\n",
    "plt.title('Histogram of Log transform of total revenue')\n",
    "plt.ylabel('Counts')\n",
    "plt.xlabel('Revenue')"
   ]
  },
  {
   "cell_type": "code",
   "execution_count": 61,
   "metadata": {
    "executionInfo": {
     "elapsed": 4619,
     "status": "ok",
     "timestamp": 1611993191717,
     "user": {
      "displayName": "akshay aa",
      "photoUrl": "",
      "userId": "01833097046762434427"
     },
     "user_tz": -330
    },
    "id": "QhNnSQLNPQDd"
   },
   "outputs": [],
   "source": []
  },
  {
   "cell_type": "code",
   "execution_count": 66,
   "metadata": {
    "colab": {
     "base_uri": "https://localhost:8080/",
     "height": 313
    },
    "executionInfo": {
     "elapsed": 2086,
     "status": "ok",
     "timestamp": 1611993254720,
     "user": {
      "displayName": "akshay aa",
      "photoUrl": "",
      "userId": "01833097046762434427"
     },
     "user_tz": -330
    },
    "id": "_ZjQGCT3zoWB",
    "outputId": "f9c93b4e-ab44-4004-aaac-7e9ffc269d20"
   },
   "outputs": [
    {
     "data": {
      "text/plain": [
       "Text(0.5, 0, 'deviceCategory')"
      ]
     },
     "execution_count": 66,
     "metadata": {
      "tags": []
     },
     "output_type": "execute_result"
    },
    {
     "data": {
      "image/png": "[encoded data removed]",
      "text/plain": [
       "<Figure size 432x288 with 1 Axes>"
      ]
     },
     "metadata": {
      "needs_background": "light",
      "tags": []
     },
     "output_type": "display_data"
    }
   ],
   "source": [
    "# matplotlib histogram\n",
    "plt.hist(revenue_generated[\"device.deviceCategory\"])\n",
    "\n",
    "\n",
    "plt.title('Histogram of Log transform of total revenue')\n",
    "plt.ylabel('Counts')\n",
    "plt.xlabel('deviceCategory')\n"
   ]
  },
  {
   "cell_type": "code",
   "execution_count": 71,
   "metadata": {
    "colab": {
     "base_uri": "https://localhost:8080/",
     "height": 313
    },
    "executionInfo": {
     "elapsed": 1059,
     "status": "ok",
     "timestamp": 1611993443827,
     "user": {
      "displayName": "akshay aa",
      "photoUrl": "",
      "userId": "01833097046762434427"
     },
     "user_tz": -330
    },
    "id": "npTjZmHEzw8X",
    "outputId": "3047360d-b1a8-4433-b12c-98502943a6b1"
   },
   "outputs": [
    {
     "data": {
      "text/plain": [
       "Text(0.5, 0, 'device_Category')"
      ]
     },
     "execution_count": 71,
     "metadata": {
      "tags": []
     },
     "output_type": "execute_result"
    },
    {
     "data": {
      "image/png": "[encoded data removed]",
      "text/plain": [
       "<Figure size 432x288 with 1 Axes>"
      ]
     },
     "metadata": {
      "needs_background": "light",
      "tags": []
     },
     "output_type": "display_data"
    }
   ],
   "source": [
    "# matplotlib histogram\n",
    "category = [\"Desktop\",\"Mobile\",\"tablet\"]\n",
    "plt.bar(category,revenue_generated.groupby([\"device.deviceCategory\"]).sum()[\"totals.transactionRevenue\"].values)\n",
    "\n",
    "\n",
    "plt.title('Device category V/S total revenue')\n",
    "plt.ylabel('Sum of revenue generated')\n",
    "plt.xlabel('device_Category')\n"
   ]
  },
  {
   "cell_type": "code",
   "execution_count": 74,
   "metadata": {
    "colab": {
     "base_uri": "https://localhost:8080/",
     "height": 313
    },
    "executionInfo": {
     "elapsed": 1641,
     "status": "ok",
     "timestamp": 1611993730386,
     "user": {
      "displayName": "akshay aa",
      "photoUrl": "",
      "userId": "01833097046762434427"
     },
     "user_tz": -330
    },
    "id": "lKZ5ihRfJgqI",
    "outputId": "e8d14aaa-014c-4469-bd81-524201c3ea8c"
   },
   "outputs": [
    {
     "data": {
      "text/plain": [
       "Text(0.5, 0, 'Browser')"
      ]
     },
     "execution_count": 74,
     "metadata": {
      "tags": []
     },
     "output_type": "execute_result"
    },
    {
     "data": {
      "image/png": "[encoded data removed]",
      "text/plain": [
       "<Figure size 432x288 with 1 Axes>"
      ]
     },
     "metadata": {
      "needs_background": "light",
      "tags": []
     },
     "output_type": "display_data"
    }
   ],
   "source": [
    "# print(revenue_generated[\"device.browser\"].unique())\n",
    "browser = ['Amazon Silk','Android Webview','Chrome',\"Edge\",\"Firefox\",\"Internet Explorer\",\"Opera\",\"Safari\",\"Safari (in-app)\"]\n",
    "values = revenue_generated.groupby([\"device.browser\"]).mean()[\"totals.transactionRevenue\"].values\n",
    "\n",
    "# matplotlib histogram\n",
    "\n",
    "plt.bar(browser,values)\n",
    "\n",
    "\n",
    "plt.title('Browser V/S total revenue')\n",
    "plt.ylabel('Sum of revenue generated')\n",
    "plt.xlabel('Browser')"
   ]
  },
  {
   "cell_type": "code",
   "execution_count": 43,
   "metadata": {
    "colab": {
     "base_uri": "https://localhost:8080/",
     "height": 313
    },
    "executionInfo": {
     "elapsed": 1335,
     "status": "ok",
     "timestamp": 1612021349579,
     "user": {
      "displayName": "akshay aa",
      "photoUrl": "",
      "userId": "01833097046762434427"
     },
     "user_tz": -330
    },
    "id": "wcdKBWh-9OoM",
    "outputId": "ce38e7fa-d9f0-4312-f241-fe6d62ce47e0"
   },
   "outputs": [
    {
     "data": {
      "text/plain": [
       "Text(0.5, 0, 'geo Network')"
      ]
     },
     "execution_count": 43,
     "metadata": {
      "tags": []
     },
     "output_type": "execute_result"
    },
    {
     "data": {
      "image/png": "[encoded data removed]",
      "text/plain": [
       "<Figure size 432x288 with 1 Axes>"
      ]
     },
     "metadata": {
      "needs_background": "light",
      "tags": []
     },
     "output_type": "display_data"
    }
   ],
   "source": [
    "browser = dict(revenue_generated.groupby([\"device.browser\"]).sum()[\"totals.pageviews\"])\n",
    "browser.keys(),browser.values()\n",
    "plt.bar(browser.keys(),browser.values())\n",
    "plt.title('Browser V/S total revenue')\n",
    "plt.ylabel('Sum of revenue generated')\n",
    "plt.xlabel('geo Network')"
   ]
  },
  {
   "cell_type": "code",
   "execution_count": 23,
   "metadata": {
    "colab": {
     "base_uri": "https://localhost:8080/",
     "height": 313
    },
    "executionInfo": {
     "elapsed": 3074,
     "status": "ok",
     "timestamp": 1612020263784,
     "user": {
      "displayName": "akshay aa",
      "photoUrl": "",
      "userId": "01833097046762434427"
     },
     "user_tz": -330
    },
    "id": "Ec4d56cEJ_vf",
    "outputId": "8453ae8b-ec78-4fc4-f02c-c80b6d8a93f2"
   },
   "outputs": [
    {
     "data": {
      "text/plain": [
       "Text(0.5, 0, 'geo Network')"
      ]
     },
     "execution_count": 23,
     "metadata": {
      "tags": []
     },
     "output_type": "execute_result"
    },
    {
     "data": {
      "image/png": "[encoded data removed]",
      "text/plain": [
       "<Figure size 432x288 with 1 Axes>"
      ]
     },
     "metadata": {
      "needs_background": "light",
      "tags": []
     },
     "output_type": "display_data"
    }
   ],
   "source": [
    "geonetwork = dict(revenue_generated.groupby([\"geoNetwork.city\"]).sum()[\"totals.transactionRevenue\"])\n",
    "geonetwork.keys(),geonetwork.values()\n",
    "plt.bar(geonetwork.keys(),geonetwork.values())\n",
    "plt.title('Browser V/S total revenue')\n",
    "plt.ylabel('Sum of revenue generated')\n",
    "plt.xlabel('geo Network')"
   ]
  },
  {
   "cell_type": "code",
   "execution_count": 32,
   "metadata": {
    "colab": {
     "base_uri": "https://localhost:8080/",
     "height": 313
    },
    "executionInfo": {
     "elapsed": 1347,
     "status": "ok",
     "timestamp": 1612020593535,
     "user": {
      "displayName": "akshay aa",
      "photoUrl": "",
      "userId": "01833097046762434427"
     },
     "user_tz": -330
    },
    "id": "OCMaWtPMKAJS",
    "outputId": "2e2c6cde-afa6-43bb-fa9e-40a174e266b8"
   },
   "outputs": [
    {
     "data": {
      "text/plain": [
       "Text(0.5, 0, 'geo Network')"
      ]
     },
     "execution_count": 32,
     "metadata": {
      "tags": []
     },
     "output_type": "execute_result"
    },
    {
     "data": {
      "image/png": "[encoded data removed]",
      "text/plain": [
       "<Figure size 432x288 with 1 Axes>"
      ]
     },
     "metadata": {
      "needs_background": "light",
      "tags": []
     },
     "output_type": "display_data"
    }
   ],
   "source": [
    "medium = dict(revenue_generated.groupby([\"trafficSource.medium\"]).mean()[\"totals.transactionRevenue\"])\n",
    "medium.keys(),medium.values()\n",
    "plt.bar(medium.keys(),medium.values())\n",
    "plt.title('Browser V/S total revenue')\n",
    "plt.ylabel('Sum of revenue generated')\n",
    "plt.xlabel('geo Network')\n",
    "# medium"
   ]
  },
  {
   "cell_type": "code",
   "execution_count": 31,
   "metadata": {
    "colab": {
     "base_uri": "https://localhost:8080/",
     "height": 313
    },
    "executionInfo": {
     "elapsed": 1458,
     "status": "ok",
     "timestamp": 1612020587436,
     "user": {
      "displayName": "akshay aa",
      "photoUrl": "",
      "userId": "01833097046762434427"
     },
     "user_tz": -330
    },
    "id": "50QxiYiP54ni",
    "outputId": "c3d5d4ae-56e7-44cd-fc52-363fbf2cb0ab"
   },
   "outputs": [
    {
     "data": {
      "text/plain": [
       "Text(0.5, 0, 'geo Network')"
      ]
     },
     "execution_count": 31,
     "metadata": {
      "tags": []
     },
     "output_type": "execute_result"
    },
    {
     "data": {
      "image/png": "[encoded data removed]",
      "text/plain": [
       "<Figure size 432x288 with 1 Axes>"
      ]
     },
     "metadata": {
      "needs_background": "light",
      "tags": []
     },
     "output_type": "display_data"
    }
   ],
   "source": [
    "pviews = dict(revenue_generated.groupby([\"trafficSource.medium\"]).sum()[\"totals.pageviews\"])\n",
    "pviews.keys(),pviews.values()\n",
    "plt.bar(pviews.keys(),pviews.values())\n",
    "plt.title('Browser V/S total revenue')\n",
    "plt.ylabel('Sum of revenue generated')\n",
    "plt.xlabel('geo Network')"
   ]
  },
  {
   "cell_type": "code",
   "execution_count": 30,
   "metadata": {
    "colab": {
     "base_uri": "https://localhost:8080/"
    },
    "executionInfo": {
     "elapsed": 1198,
     "status": "ok",
     "timestamp": 1612020574830,
     "user": {
      "displayName": "akshay aa",
      "photoUrl": "",
      "userId": "01833097046762434427"
     },
     "user_tz": -330
    },
    "id": "usPkvano6Lqn",
    "outputId": "7b54f30a-3fdd-446d-c2fd-83e8ea5a042d"
   },
   "outputs": [
    {
     "data": {
      "text/plain": [
       "{'(none)': 27.47845249755142,\n",
       " '(not set)': 16.0,\n",
       " 'affiliate': 28.0,\n",
       " 'cpc': 28.200854700854702,\n",
       " 'cpm': 28.887323943661972,\n",
       " 'organic': 29.732693426410705,\n",
       " 'referral': 27.760849492151433}"
      ]
     },
     "execution_count": 30,
     "metadata": {
      "tags": []
     },
     "output_type": "execute_result"
    }
   ],
   "source": [
    "# pviews"
   ]
  },
  {
   "cell_type": "code",
   "execution_count": 38,
   "metadata": {
    "colab": {
     "base_uri": "https://localhost:8080/",
     "height": 434
    },
    "executionInfo": {
     "elapsed": 1373,
     "status": "ok",
     "timestamp": 1612020823861,
     "user": {
      "displayName": "akshay aa",
      "photoUrl": "",
      "userId": "01833097046762434427"
     },
     "user_tz": -330
    },
    "id": "iChZuhGW6tWe",
    "outputId": "53275c17-21cf-4ef8-9666-0bfcb49c642b"
   },
   "outputs": [
    {
     "data": {
      "text/plain": [
       "{'(Other)': 16.0,\n",
       " 'Affiliates': 252.0,\n",
       " 'Direct': 56111.0,\n",
       " 'Display': 4102.0,\n",
       " 'Organic Search': 102221.0,\n",
       " 'Paid Search': 13198.0,\n",
       " 'Referral': 146830.0,\n",
       " 'Social': 3495.0}"
      ]
     },
     "execution_count": 38,
     "metadata": {
      "tags": []
     },
     "output_type": "execute_result"
    },
    {
     "data": {
      "image/png": "[encoded data removed]",
      "text/plain": [
       "<Figure size 432x288 with 1 Axes>"
      ]
     },
     "metadata": {
      "needs_background": "light",
      "tags": []
     },
     "output_type": "display_data"
    }
   ],
   "source": [
    "\n",
    "channelGrouping = dict(revenue_generated.groupby([\"channelGrouping\"]).sum()[\"totals.pageviews\"])\n",
    "\n",
    "channelGrouping.keys(),channelGrouping.values()\n",
    "plt.bar(channelGrouping.keys(),channelGrouping.values())\n",
    "plt.title('Browser V/S total revenue')\n",
    "plt.ylabel('Sum of revenue generated')\n",
    "plt.xlabel('geo Network')\n",
    "channelGrouping"
   ]
  },
  {
   "cell_type": "code",
   "execution_count": 39,
   "metadata": {
    "colab": {
     "base_uri": "https://localhost:8080/",
     "height": 434
    },
    "executionInfo": {
     "elapsed": 1501,
     "status": "ok",
     "timestamp": 1612020856848,
     "user": {
      "displayName": "akshay aa",
      "photoUrl": "",
      "userId": "01833097046762434427"
     },
     "user_tz": -330
    },
    "id": "FNWorrHo7dle",
    "outputId": "851e28e8-60a7-487e-ea3b-5d4fdec7f251"
   },
   "outputs": [
    {
     "data": {
      "text/plain": [
       "{'(Other)': 23.252053247341866,\n",
       " 'Affiliates': 24.73057743342535,\n",
       " 'Direct': 26.01740552902595,\n",
       " 'Display': 26.53556172165178,\n",
       " 'Organic Search': 25.357464261949143,\n",
       " 'Paid Search': 25.415045742175522,\n",
       " 'Referral': 25.8473619379801,\n",
       " 'Social': 25.029049308366424}"
      ]
     },
     "execution_count": 39,
     "metadata": {
      "tags": []
     },
     "output_type": "execute_result"
    },
    {
     "data": {
      "image/png": "[encoded data removed]",
      "text/plain": [
       "<Figure size 432x288 with 1 Axes>"
      ]
     },
     "metadata": {
      "needs_background": "light",
      "tags": []
     },
     "output_type": "display_data"
    }
   ],
   "source": [
    "channelGrouping = dict(revenue_generated.groupby([\"channelGrouping\"]).mean()[\"totals.transactionRevenue\"])\n",
    "\n",
    "channelGrouping.keys(),channelGrouping.values()\n",
    "plt.bar(channelGrouping.keys(),channelGrouping.values())\n",
    "plt.title('Browser V/S total revenue')\n",
    "plt.ylabel('Sum of revenue generated')\n",
    "plt.xlabel('geo Network')\n",
    "channelGrouping"
   ]
  },
  {
   "cell_type": "code",
   "execution_count": 41,
   "metadata": {
    "colab": {
     "base_uri": "https://localhost:8080/",
     "height": 313
    },
    "executionInfo": {
     "elapsed": 1586,
     "status": "ok",
     "timestamp": 1612020948265,
     "user": {
      "displayName": "akshay aa",
      "photoUrl": "",
      "userId": "01833097046762434427"
     },
     "user_tz": -330
    },
    "id": "h3uIa854KAZE",
    "outputId": "0ede7875-cc40-4ae2-8abf-1e4a82810158"
   },
   "outputs": [
    {
     "data": {
      "text/plain": [
       "Text(0.5, 0, 'geo Network')"
      ]
     },
     "execution_count": 41,
     "metadata": {
      "tags": []
     },
     "output_type": "execute_result"
    },
    {
     "data": {
      "image/png": "[encoded data removed]",
      "text/plain": [
       "<Figure size 432x288 with 1 Axes>"
      ]
     },
     "metadata": {
      "needs_background": "light",
      "tags": []
     },
     "output_type": "display_data"
    }
   ],
   "source": [
    "operatingsystem = dict(revenue_generated.groupby([\"device.operatingSystem\"]).sum()[\"totals.pageviews\"])\n",
    "operatingsystem.keys(),operatingsystem.values()\n",
    "plt.bar(operatingsystem.keys(),operatingsystem.values())\n",
    "plt.title('Browser V/S total revenue')\n",
    "plt.ylabel('Sum of revenue generated')\n",
    "plt.xlabel('geo Network')"
   ]
  },
  {
   "cell_type": "code",
   "execution_count": 42,
   "metadata": {
    "colab": {
     "base_uri": "https://localhost:8080/",
     "height": 313
    },
    "executionInfo": {
     "elapsed": 1445,
     "status": "ok",
     "timestamp": 1612020948837,
     "user": {
      "displayName": "akshay aa",
      "photoUrl": "",
      "userId": "01833097046762434427"
     },
     "user_tz": -330
    },
    "id": "ONVCGfpgLBjQ",
    "outputId": "743e0cd1-2817-4eef-d24d-114892266b5e"
   },
   "outputs": [
    {
     "data": {
      "text/plain": [
       "Text(0.5, 0, 'geo Network')"
      ]
     },
     "execution_count": 42,
     "metadata": {
      "tags": []
     },
     "output_type": "execute_result"
    },
    {
     "data": {
      "image/png": "[encoded data removed]",
      "text/plain": [
       "<Figure size 432x288 with 1 Axes>"
      ]
     },
     "metadata": {
      "needs_background": "light",
      "tags": []
     },
     "output_type": "display_data"
    }
   ],
   "source": [
    "operatingsystem = dict(revenue_generated.groupby([\"device.operatingSystem\"]).mean()[\"totals.transactionRevenue\"])\n",
    "operatingsystem.keys(),operatingsystem.values()\n",
    "plt.bar(operatingsystem.keys(),operatingsystem.values())\n",
    "plt.title('Browser V/S total revenue')\n",
    "plt.ylabel('Sum of revenue generated')\n",
    "plt.xlabel('geo Network')"
   ]
  },
  {
   "cell_type": "code",
   "execution_count": 23,
   "metadata": {
    "colab": {
     "base_uri": "https://localhost:8080/"
    },
    "executionInfo": {
     "elapsed": 999,
     "status": "ok",
     "timestamp": 1611992062307,
     "user": {
      "displayName": "akshay aa",
      "photoUrl": "",
      "userId": "01833097046762434427"
     },
     "user_tz": -330
    },
    "id": "x-eHYS1uLCC2",
    "outputId": "bbea7c53-842a-48a8-876b-0249eca0e47a"
   },
   "outputs": [
    {
     "data": {
      "text/plain": [
       "socialEngagementType\n",
       "Not Socially Engaged    1.540071e+12\n",
       "Name: totals.transactionRevenue, dtype: float64"
      ]
     },
     "execution_count": 23,
     "metadata": {
      "tags": []
     },
     "output_type": "execute_result"
    }
   ],
   "source": []
  },
  {
   "cell_type": "code",
   "execution_count": 24,
   "metadata": {
    "colab": {
     "base_uri": "https://localhost:8080/"
    },
    "executionInfo": {
     "elapsed": 1373,
     "status": "ok",
     "timestamp": 1611992066708,
     "user": {
      "displayName": "akshay aa",
      "photoUrl": "",
      "userId": "01833097046762434427"
     },
     "user_tz": -330
    },
    "id": "Uo_7yLSvLCSx",
    "outputId": "7475cc8d-db27-4cfb-ed64-42e193449e12"
   },
   "outputs": [
    {
     "data": {
      "text/plain": [
       "device.operatingSystem\n",
       "Android          3.634128e+10\n",
       "Chrome OS        1.839378e+11\n",
       "Linux            4.391040e+10\n",
       "Macintosh        8.563758e+11\n",
       "Windows          3.973127e+11\n",
       "Windows Phone    2.640000e+07\n",
       "iOS              2.216690e+10\n",
       "Name: totals.transactionRevenue, dtype: float64"
      ]
     },
     "execution_count": 24,
     "metadata": {
      "tags": []
     },
     "output_type": "execute_result"
    }
   ],
   "source": []
  },
  {
   "cell_type": "code",
   "execution_count": 27,
   "metadata": {
    "colab": {
     "base_uri": "https://localhost:8080/"
    },
    "executionInfo": {
     "elapsed": 1451,
     "status": "ok",
     "timestamp": 1611991364184,
     "user": {
      "displayName": "akshay aa",
      "photoUrl": "",
      "userId": "01833097046762434427"
     },
     "user_tz": -330
    },
    "id": "QR0Lc2HuLChq",
    "outputId": "1baf1b82-8535-4466-9b85-e2a55a32f8b3"
   },
   "outputs": [
    {
     "data": {
      "text/plain": [
       "device.mobileDeviceBranding\n",
       "not available in demo dataset    1.540071e+12\n",
       "Name: totals.transactionRevenue, dtype: float64"
      ]
     },
     "execution_count": 27,
     "metadata": {
      "tags": []
     },
     "output_type": "execute_result"
    }
   ],
   "source": []
  },
  {
   "cell_type": "code",
   "execution_count": null,
   "metadata": {
    "id": "DOhecSEpLCxL"
   },
   "outputs": [],
   "source": []
  }
 ],
 "metadata": {
  "colab": {
   "authorship_tag": "ABX9TyPn4/8VRBk/fxoYl3dbvh0J",
   "collapsed_sections": [],
   "mount_file_id": "174TwYBxw96JH6Hwyb3fIfQrtf-bCg969",
   "name": "Google.ipynb",
   "provenance": []
  },
  "kernelspec": {
   "display_name": "Python 3",
   "language": "python",
   "name": "python3"
  },
  "language_info": {
   "codemirror_mode": {
    "name": "ipython",
    "version": 3
   },
   "file_extension": ".py",
   "mimetype": "text/x-python",
   "name": "python",
   "nbconvert_exporter": "python",
   "pygments_lexer": "ipython3",
   "version": "3.8.5"
  }
 },
 "nbformat": 4,
 "nbformat_minor": 1
}
